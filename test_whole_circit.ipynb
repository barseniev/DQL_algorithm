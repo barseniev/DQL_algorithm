{
 "cells": [
  {
   "cell_type": "code",
   "execution_count": 4,
   "id": "8629cc4a",
   "metadata": {},
   "outputs": [],
   "source": [
    "from qiskit import QuantumCircuit, Aer, transpile\n",
    "from qiskit.quantum_info import Statevector\n",
    "from scipy.stats import unitary_group\n",
    "from numpy.linalg import norm, inv\n",
    "import numpy as np\n",
    "import math\n",
    "from  functools  import reduce\n",
    "import qiskit.quantum_info as qi\n",
    "from scipy.linalg import expm\n",
    "from  itertools  import product\n",
    "from qiskit.circuit.library import MCXGate\n",
    "\n",
    "PAULIS = {'I': np.eye(2),\n",
    "          'X': np.array([[0, 1], [1, 0]]),\n",
    "          'Y': np.array([[0, -1j], [1j, 0]]),\n",
    "          'Z': np.diag(np.array([1, -1]))}\n",
    "\n",
    "\n",
    "def make_Gu(N):\n",
    "    \"\"\" (I \\otimes Gu \\otimes I) (vec(A) \\otimes vec(B)) = vec(BA) \\otimes |0>|0> + ...\"\"\"\n",
    "    Gu = (1/np.sqrt(N))*np.eye(N).reshape((-1,1),order='F') # column vec(I)\n",
    "    U, _, _ = np.linalg.svd(Gu, full_matrices=True)\n",
    "    return U.T\n",
    "\n",
    "def make_Vu(v):\n",
    "    \"\"\" (I \\otimes Vu) vec(A^T) = Av \\otimes |0> + ...\"\"\"\n",
    "    Vu = v.reshape((-1,1)) # column v\n",
    "    U, _, _ = np.linalg.svd(Vu, full_matrices=True)\n",
    "    return U.T\n",
    "\n",
    "\n",
    "def get_circ_power_2(M_2, Gu_op, n):\n",
    "    L = math.ceil(np.log2(M_2)) - 1 # number of layers\n",
    "    circ_p2 = QuantumCircuit(M_2*n, name='pyromid for {}'.format(M_2))\n",
    "    \n",
    "    # G_ind_list - is array of inputs for G (g_0, g_1, g_2, g_3), where g_1, g_2 - being inputs for Gu\n",
    "    G_ind_list = np.array(list(range(M_2))).reshape(-1,4) # qubits for gate Gu\n",
    "#     print('layer: {}'.format(0))\n",
    "#     print('G: {}'.format(G_ind_list))\n",
    "#     print()\n",
    "\n",
    "    for g in G_ind_list:\n",
    "        \n",
    "        # Gu_qu - qubits in normal notation\n",
    "        Gu_qu = [g[1]*n+j for j in range(n)] + [g[2]*n+j for j in range(n)]\n",
    "        circ_p2.unitary(Gu_op, Gu_qu, label='$G_{U}$')\n",
    "        for j in range(n):\n",
    "            s1 = g[1]*n+j # qubits to swap in normal notation\n",
    "            s2 = g[3]*n+j # qubits to swap in normal notation\n",
    "            circ_p2.swap(s1,s2)\n",
    "    \n",
    "    for l in range(1,L):\n",
    "        # Swap_list_1 - is array of inputs for G to swap, namely g2 <-> g0   \n",
    "        Swap_list_1 = [(G_ind_list[j][2], G_ind_list[j+1][0])  for j in range(len(G_ind_list)-1)][::2]\n",
    "        for s in Swap_list_1:\n",
    "            for j in range(n):\n",
    "                s1 = s[0]*n+j # qubits to swap in normal notation\n",
    "                s2 = s[1]*n+j # qubits to swap in normal notation\n",
    "                circ_p2.swap(s1,s2)\n",
    "                             \n",
    "        # Swap_list_2 - is array of inputs for G to swap, namely g3 <-> g1            \n",
    "        Swap_list_2 = [(G_ind_list[j][3], G_ind_list[j+1][1])  for j in range(len(G_ind_list)-1)][::2]\n",
    "        for s in Swap_list_2:\n",
    "            for j in range(n):\n",
    "                s1 = s[0]*n+j # qubits to swap in normal notation\n",
    "                s2 = s[1]*n+j # qubits to swap in normal notation\n",
    "                circ_p2.swap(s1,s2)\n",
    "        \n",
    "        G_ind_list = G_ind_list[::2]\n",
    "        for g in G_ind_list:\n",
    "            Gu_qu = [g[1]*n+j for j in range(n)] + [g[2]*n+j for j in range(n)]\n",
    "            circ_p2.unitary(Gu_op, Gu_qu, label='$G_{U}$')\n",
    "            for j in range(n):\n",
    "                s1 = g[1]*n+j # qubits to swap in normal notation\n",
    "                s2 = g[3]*n+j # qubits to swap in normal notation\n",
    "                circ_p2.swap(s1,s2)\n",
    "    \n",
    "    \n",
    "#     print('layer: {}'.format(l))\n",
    "#     print('Swap_1: {}'.format(Swap_list_1))\n",
    "#     print('Swap_2: {}'.format(Swap_list_2))\n",
    "#     print('G: {}'.format(G_ind_list))\n",
    "#     print()\n",
    "    return circ_p2\n",
    "\n",
    "\n",
    "def get_circ_connect(M, Gu_op, n):\n",
    "    circ_connect = QuantumCircuit(M*n)\n",
    "    \n",
    "    M_bin = bin(M)[2:]\n",
    "    M_list = [int(b)*2**i for i,b in enumerate(M_bin[::-1])][::-1] # circuit of powers of 2\n",
    "    \n",
    "    M_csum = 0\n",
    "    M_csum_list = [] # how many qubits are occupied\n",
    "    for m in M_list[:-1]:\n",
    "        M_csum += m\n",
    "        if m>0:\n",
    "            M_csum_list.append(M_csum - m)\n",
    "            \n",
    "    G_ind_list = [(i,i+1,i+2,i+3) for i in M_csum_list] # list with inputs for G\n",
    "    L = len(G_ind_list) \n",
    "    assert L == sum([int(b) for b in M_bin])\n",
    "\n",
    "    for l in range(1,L)[::-1]: # building the circuit, starting with smallest power of 2\n",
    "        \n",
    "        #swap g2 <-> g0 \n",
    "        s1 = (G_ind_list[l-1][2], G_ind_list[l][0])\n",
    "        for j in range(n):\n",
    "            circ_connect.swap(s1[0]*n+j,s1[1]*n+j)\n",
    "                       \n",
    "        #swap g3 <-> g1\n",
    "        s2 = (G_ind_list[l-1][3], G_ind_list[l][1])\n",
    "        for j in range(n):\n",
    "            circ_connect.swap([s2[0]*n+j],[s2[1]*n+j])\n",
    "        \n",
    "        # application of G\n",
    "        g = G_ind_list[l-1]\n",
    "        Gu_qu = [g[1]*n+j for j in range(n)] + [g[2]*n+j for j in range(n)]\n",
    "        circ_connect.unitary(Gu_op, Gu_qu, label='$G_{U}$')\n",
    "        for j in range(n):\n",
    "            s1 = g[1]*n+j # qubits to swap in normal notation\n",
    "            s2 = g[3]*n+j # qubits to swap in normal notation\n",
    "            circ_connect.swap(s1,s2)\n",
    "            \n",
    "    return circ_connect\n",
    "\n",
    "\n",
    "def get_full_circuit(M, n, U_list, Vu_op):\n",
    "    circ_full = QuantumCircuit(n*M, name='Parallel')\n",
    "\n",
    "    for i in range(M):\n",
    "        U = U_list[i]\n",
    "        l = '$U_{%s}$'%(i+1)\n",
    "        if i % 2 == 1:\n",
    "            U = U.T\n",
    "            l = '$U_{%s}^T$'%(i+1)\n",
    "        U_op = qi.Operator(U)\n",
    "        circ_full.unitary(U_op,[i*n+j for j in range(n)][::-1],label=l)\n",
    "\n",
    "    M_bin = bin(M)[2:]\n",
    "    M_list = [int(b)*2**i for i,b in enumerate(M_bin[::-1])][::-1]\n",
    "    M_csum = 0\n",
    "    for M_2 in M_list[:-2]:\n",
    "        if M_2 > 0:\n",
    "            n_2 = int(np.log2(M_2))\n",
    "            cir_pyr = get_circ_power_2(M_2, Gu_op, n)\n",
    "            circ_full = circ_full.compose(cir_pyr, list(range(M_csum*n,(M_csum+M_2)*n)))\n",
    "            M_csum += M_2\n",
    "\n",
    "    circ_connect = get_circ_connect(M, Gu_op, n)\n",
    "    circ_full = circ_full.compose(circ_connect)\n",
    "\n",
    "    circ_full.unitary(Vu_op, [n+j for j in range(n)][::-1], label = \"$V_{u}$\")\n",
    "\n",
    "    circ_full = circ_full.reverse_bits()\n",
    "    return circ_full"
   ]
  },
  {
   "cell_type": "markdown",
   "id": "55e60421",
   "metadata": {},
   "source": [
    "### Matrix test"
   ]
  },
  {
   "cell_type": "code",
   "execution_count": 5,
   "id": "5c433c86",
   "metadata": {},
   "outputs": [],
   "source": [
    "## Generate inital conditions\n",
    "np.random.seed(1)\n",
    "n = 1\n",
    "N = 2**n\n",
    "I = np.eye(N)\n",
    "vec_I = I.reshape(-1,order='F')\n",
    "M = 4\n",
    "init_state = (1/N)**(M/4) * reduce(np.kron, [vec_I for i in range(M//2)])\n",
    "U_list = []\n",
    "for i in range(M):\n",
    "    U = unitary_group.rvs(N)\n",
    "    U_list.append(U)\n",
    "    \n",
    "Gu = make_Gu(N)\n",
    "\n",
    "v = np.random.rand(N)\n",
    "v = v/norm(v)\n",
    "Vu = make_Vu(v)\n",
    "\n",
    "S = np.array([[1,0,0,0],\n",
    "              [0,0,1,0],\n",
    "              [0,1,0,0],\n",
    "              [0,0,0,1]])\n",
    "\n",
    "exact_result = np.array(v)\n",
    "for U in U_list[::-1]:\n",
    "    exact_result = U@exact_result"
   ]
  },
  {
   "cell_type": "code",
   "execution_count": 6,
   "id": "b8ad3926",
   "metadata": {},
   "outputs": [
    {
     "name": "stdout",
     "output_type": "stream",
     "text": [
      "5.864904842088747e-16\n"
     ]
    }
   ],
   "source": [
    "test_vectorization = np.sqrt(N)*np.sqrt(N)*reduce(np.kron, [U_list[0],U_list[1].T,U_list[2],U_list[3].T])@init_state\n",
    "\n",
    "\n",
    "vec_0 = (U_list[0]@U_list[1]).T\n",
    "vec_0 = vec_0.reshape(-1,order='F')\n",
    "\n",
    "vec_1 = (U_list[2]@U_list[3]).T\n",
    "vec_1 = vec_1.reshape(-1,order='F')\n",
    "\n",
    "\n",
    "print(norm(test_vectorization - np.kron(vec_0,vec_1)))"
   ]
  },
  {
   "cell_type": "code",
   "execution_count": 7,
   "id": "a5d33591",
   "metadata": {},
   "outputs": [
    {
     "name": "stdout",
     "output_type": "stream",
     "text": [
      "5.011399652273759e-16\n"
     ]
    }
   ],
   "source": [
    "test_gathering = reduce(np.kron, [I,vec_I,I])@test_vectorization\n",
    "\n",
    "vec_test = (U_list[0]@U_list[1]@U_list[2]@U_list[3]).T\n",
    "vec_test = vec_test.reshape(-1,order='F')\n",
    "\n",
    "print(norm(test_gathering - vec_test))"
   ]
  },
  {
   "cell_type": "code",
   "execution_count": 8,
   "id": "f21af3b9",
   "metadata": {},
   "outputs": [
    {
     "name": "stdout",
     "output_type": "stream",
     "text": [
      "5.011399652273759e-16\n"
     ]
    }
   ],
   "source": [
    "test_gathering = reduce(np.kron, [I,S,I])@reduce(np.kron, [I,I,S])@reduce(np.kron, [I,np.sqrt(N)*Gu,I])@test_vectorization\n",
    "\n",
    "test_gathering_0 = [test_gathering[i*2**((M-2)*n)] for i in range(2**2)] # third and fourth qubits are 0\n",
    "\n",
    "vec_test = (U_list[0]@U_list[1]@U_list[2]@U_list[3]).T\n",
    "vec_test = vec_test.reshape(-1,order='F')\n",
    "\n",
    "print(norm(test_gathering_0 - vec_test))"
   ]
  },
  {
   "cell_type": "code",
   "execution_count": 9,
   "id": "2fd443d4",
   "metadata": {},
   "outputs": [
    {
     "name": "stdout",
     "output_type": "stream",
     "text": [
      "4.0125770192081414e-16\n"
     ]
    }
   ],
   "source": [
    "test_multiplication = reduce(np.kron, [I,Vu,I,I])@test_gathering\n",
    "\n",
    "test_multiplication_0 = [test_multiplication[i*2**((M-1)*n)] for i in range(N)] # third and fourth qubits are 0\n",
    "\n",
    "vec_mult = U_list[0]@U_list[1]@U_list[2]@U_list[3]@v\n",
    "vec_mult = vec_mult.reshape(-1,order='F')\n",
    "\n",
    "print(norm(test_multiplication_0 - vec_mult))"
   ]
  },
  {
   "cell_type": "markdown",
   "id": "0d6f6ac3",
   "metadata": {},
   "source": [
    "### Test circuit for $G_u$"
   ]
  },
  {
   "cell_type": "code",
   "execution_count": 16,
   "id": "d13dbbb2",
   "metadata": {},
   "outputs": [],
   "source": [
    "def get_G_X(n):\n",
    "    G_x = np.zeros((2**(2*n), 2**(2*n)))\n",
    "    for s in product(['X','I'], repeat=n):\n",
    "        P = reduce(np.kron, [PAULIS[p] for p in s])\n",
    "        G_x += np.kron(P,P)\n",
    "    return G_x\n",
    "\n",
    "def get_G_diag(n):\n",
    "    G_diag = np.zeros((2**(2*n), 2**(2*n)))\n",
    "    for s in product(['Z','I'], repeat=n):\n",
    "        P = reduce(np.kron, [PAULIS[p] for p in s])\n",
    "        G_diag += np.kron(P,P)\n",
    "    return G_diag\n",
    "\n",
    "def get_S_circuit(n):\n",
    "    \"\"\"n - number of qubits for operator U \"\"\"\n",
    "    circ_S = QuantumCircuit(2*n, name='S')\n",
    "    \n",
    "    for i in range(n):\n",
    "        circ_S.cx(i, n+i)\n",
    "\n",
    "    circ_S = circ_S.reverse_bits()\n",
    "    return circ_S\n",
    "\n",
    "def get_Gu_circuit(n):\n",
    "    \"\"\"n - number of qubits for operator U \"\"\"\n",
    "    circ_gu = QuantumCircuit(2*n, name='G_u')\n",
    "    \n",
    "    for i in range(2*n):\n",
    "        circ_gu.h(i)\n",
    "    \n",
    "    for i in range(n):\n",
    "        circ_gu.cx(i, n+i)\n",
    "        \n",
    "    circ_gu.barrier()\n",
    "    if n == 1:\n",
    "        circ_gu.z(n)\n",
    "    else:\n",
    "        circ_gu.x(2*n-1)\n",
    "        circ_gu.h(2*n-1)\n",
    "        circ_gu.append(MCXGate(n-1, ctrl_state=0),[j+n for j in range(n)])\n",
    "        circ_gu.h(2*n-1)\n",
    "        circ_gu.x(2*n-1)\n",
    "        \n",
    "    circ_gu.barrier()\n",
    "    \n",
    "    for i in range(n)[::-1]:\n",
    "        circ_gu.cx(i, n+i)\n",
    "        \n",
    "        \n",
    "    circ_gu.barrier()\n",
    "        \n",
    "    for i in range(2*n):\n",
    "        circ_gu.h(i)\n",
    "        \n",
    "    circ_gu = circ_gu.reverse_bits()\n",
    "    return circ_gu"
   ]
  },
  {
   "cell_type": "code",
   "execution_count": 34,
   "id": "1c78d00e",
   "metadata": {},
   "outputs": [
    {
     "name": "stdout",
     "output_type": "stream",
     "text": [
      "n = 6 5.9264460949737794e-12\n"
     ]
    },
    {
     "data": {
      "image/png": "[encoded data removed]",
      "text/plain": [
       "<Figure size 1423.98x746.48 with 1 Axes>"
      ]
     },
     "execution_count": 34,
     "metadata": {},
     "output_type": "execute_result"
    }
   ],
   "source": [
    "n = 6\n",
    "G_u = get_G_X(n)\n",
    "\n",
    "circ_gu = get_Gu_circuit(n)\n",
    "circ_gu_matrix = qi.Operator.from_circuit(circ_gu).data.real \n",
    "\n",
    "G_u_rec = ((2**n)/2)*(np.eye(2**(2*n))-circ_gu_matrix)\n",
    "print('n = {}'.format(n), norm(G_u - G_u_rec))\n",
    "\n",
    "circ_gu.draw('mpl',style=\"iqp\", reverse_bits=True)"
   ]
  },
  {
   "cell_type": "code",
   "execution_count": 35,
   "id": "c3842133",
   "metadata": {},
   "outputs": [
    {
     "name": "stdout",
     "output_type": "stream",
     "text": [
      "This is pdfTeX, Version 3.141592653-2.6-1.40.25 (TeX Live 2023) (preloaded format=pdflatex)\n",
      " restricted \\write18 enabled.\n",
      "entering extended mode\n",
      "(./file.tex\n",
      "LaTeX2e <2022-11-01> patch level 1\n",
      "L3 programming layer <2023-02-22>\n",
      "(/usr/local/texlive/2023/texmf-dist/tex/latex/standalone/standalone.cls\n",
      "Document Class: standalone 2022/10/10 v1.3b Class to compile TeX sub-files stan\n",
      "dalone\n",
      "(/usr/local/texlive/2023/texmf-dist/tex/latex/tools/shellesc.sty)\n",
      "(/usr/local/texlive/2023/texmf-dist/tex/generic/iftex/ifluatex.sty\n",
      "(/usr/local/texlive/2023/texmf-dist/tex/generic/iftex/iftex.sty))\n",
      "(/usr/local/texlive/2023/texmf-dist/tex/latex/xkeyval/xkeyval.sty\n",
      "(/usr/local/texlive/2023/texmf-dist/tex/generic/xkeyval/xkeyval.tex\n",
      "(/usr/local/texlive/2023/texmf-dist/tex/generic/xkeyval/xkvutils.tex\n",
      "(/usr/local/texlive/2023/texmf-dist/tex/generic/xkeyval/keyval.tex))))\n",
      "(/usr/local/texlive/2023/texmf-dist/tex/latex/standalone/standalone.cfg)\n",
      "(/usr/local/texlive/2023/texmf-dist/tex/latex/base/article.cls\n",
      "Document Class: article 2022/07/02 v1.4n Standard LaTeX document class\n",
      "(/usr/local/texlive/2023/texmf-dist/tex/latex/base/size10.clo)))\n",
      "(/usr/local/texlive/2023/texmf-dist/tex/latex/qcircuit/qcircuit.sty\n",
      "(/usr/local/texlive/2023/texmf-dist/tex/generic/xypic/xy.sty\n",
      "(/usr/local/texlive/2023/texmf-dist/tex/generic/xypic/xy.tex Bootstrap'ing:\n",
      "catcodes, docmode,\n",
      "(/usr/local/texlive/2023/texmf-dist/tex/generic/xypic/xyrecat.tex)\n",
      "(/usr/local/texlive/2023/texmf-dist/tex/generic/xypic/xyidioms.tex)\n",
      "\n",
      " Xy-pic version 3.8.9 <2013/10/06>\n",
      " Copyright (c) 1991-2013 by Kristoffer H. Rose <krisrose@tug.org> and others\n",
      " Xy-pic is free software: see the User's Guide for details.\n",
      "\n",
      "Loading kernel: messages; fonts; allocations: state, direction,\n",
      "utility macros; pictures: \\xy, positions, objects, decorations;\n",
      "kernel objects: directionals, circles, text; options; algorithms: directions,\n",
      "edges, connections;  Xy-pic loaded)\n",
      "(/usr/local/texlive/2023/texmf-dist/tex/generic/iftex/ifpdf.sty)\n",
      "(/usr/local/texlive/2023/texmf-dist/tex/generic/xypic/xypdf.tex\n",
      " Xy-pic option: PDF driver v.1.7 loaded))\n",
      "(/usr/local/texlive/2023/texmf-dist/tex/generic/xypic/xymatrix.tex\n",
      " Xy-pic option: Matrix feature v.3.14 loaded)\n",
      "(/usr/local/texlive/2023/texmf-dist/tex/generic/xypic/xyframe.tex\n",
      " Xy-pic option: Frame and Bracket extension v.3.14 loaded)\n",
      "Xy-pic pdf driver: `frame' extension support\n",
      "(/usr/local/texlive/2023/texmf-dist/tex/generic/xypic/xypdf-fr.tex\n",
      "(/usr/local/texlive/2023/texmf-dist/tex/generic/xypic/xycurve.tex\n",
      " Xy-pic option: Curve and Spline extension v.3.12 curve, circles, loaded)\n",
      "Xy-pic pdf driver: `curve' extension support\n",
      "(/usr/local/texlive/2023/texmf-dist/tex/generic/xypic/xypdf-cu.tex loaded)\n",
      "loaded) (/usr/local/texlive/2023/texmf-dist/tex/generic/xypic/xyarrow.tex\n",
      " Xy-pic option: Arrow and Path feature v.3.9 path, \\ar, loaded)\n",
      "(/usr/local/texlive/2023/texmf-dist/tex/generic/xypic/xyarc.tex\n",
      " Xy-pic option: Circle, Ellipse, Arc feature v.3.8 circles, ellipses,\n",
      "elliptical arcs, loaded))\n",
      "(/usr/local/texlive/2023/texmf-dist/tex/latex/graphics/graphicx.sty\n",
      "(/usr/local/texlive/2023/texmf-dist/tex/latex/graphics/graphics.sty\n",
      "(/usr/local/texlive/2023/texmf-dist/tex/latex/graphics/trig.sty)\n",
      "(/usr/local/texlive/2023/texmf-dist/tex/latex/graphics-cfg/graphics.cfg)\n",
      "(/usr/local/texlive/2023/texmf-dist/tex/latex/graphics-def/pdftex.def)))\n",
      "(/usr/local/texlive/2023/texmf-dist/tex/latex/l3backend/l3backend-pdftex.def)\n",
      "(./file.aux)\n",
      "(/usr/local/texlive/2023/texmf-dist/tex/context/base/mkii/supp-pdf.mkii\n",
      "[Loading MPS to PDF converter (version 2006.09.02).]\n",
      ") (/usr/local/texlive/2023/texmf-dist/tex/latex/epstopdf-pkg/epstopdf-base.sty\n",
      "(/usr/local/texlive/2023/texmf-dist/tex/latex/latexconfig/epstopdf-sys.cfg))\n",
      "<xymatrix 20x8 5545> [1{/usr/local/texlive/2023/texmf-var/fonts/map/pdftex/updm\n",
      "ap/pdftex.map}] (./file.aux) )</usr/local/texlive/2023/texmf-dist/fonts/type1/p\n",
      "ublic/amsfonts/cm/cmmi10.pfb></usr/local/texlive/2023/texmf-dist/fonts/type1/pu\n",
      "blic/amsfonts/cm/cmr10.pfb></usr/local/texlive/2023/texmf-dist/fonts/type1/publ\n",
      "ic/amsfonts/cm/cmr7.pfb></usr/local/texlive/2023/texmf-dist/fonts/type1/public/\n",
      "amsfonts/cm/cmsy10.pfb>\n",
      "Output written on file.pdf (1 page, 38695 bytes).\n",
      "Transcript written on file.log.\n"
     ]
    }
   ],
   "source": [
    "n = 3\n",
    "circ_gu = get_Gu_circuit(n)\n",
    "circ_gu.draw('latex_source', style=\"iqp\", reverse_bits=True, filename='./file.tex')\n",
    "!pdflatex file.tex"
   ]
  },
  {
   "cell_type": "markdown",
   "id": "010b8187",
   "metadata": {},
   "source": [
    "### Test circuit for $M = 2^k, k>2$"
   ]
  },
  {
   "cell_type": "code",
   "execution_count": 9,
   "id": "0a971c7b",
   "metadata": {},
   "outputs": [
    {
     "data": {
      "image/png": "[encoded data removed]",
      "text/plain": [
       "<Figure size 581.323x987.28 with 1 Axes>"
      ]
     },
     "execution_count": 9,
     "metadata": {},
     "output_type": "execute_result"
    }
   ],
   "source": [
    "n = 2\n",
    "N = 2**n\n",
    "Gu = make_Gu(N)\n",
    "Gu_op = qi.Operator(Gu)\n",
    "k = 3\n",
    "M_2 = 2**k\n",
    "\n",
    "\n",
    "cir_test = get_circ_power_2(M_2, Gu_op, n)\n",
    "cir_test = cir_test.reverse_bits()\n",
    "\n",
    "cir_test.draw('mpl',style=\"iqp\", reverse_bits=True)"
   ]
  },
  {
   "cell_type": "markdown",
   "id": "b0943b1f",
   "metadata": {},
   "source": [
    "### Test connect circuit"
   ]
  },
  {
   "cell_type": "code",
   "execution_count": 10,
   "id": "3daee85e",
   "metadata": {},
   "outputs": [
    {
     "data": {
      "image/png": "[encoded data removed]",
      "text/plain": [
       "<Figure size 400.869x1468.88 with 1 Axes>"
      ]
     },
     "execution_count": 10,
     "metadata": {},
     "output_type": "execute_result"
    }
   ],
   "source": [
    "n = 2\n",
    "N = 2**n\n",
    "Gu = make_Gu(N)\n",
    "Gu_op = qi.Operator(Gu)\n",
    "M = 12\n",
    "\n",
    "cir_test = get_circ_connect(M, Gu_op, n)\n",
    "cir_test = cir_test.reverse_bits()\n",
    "\n",
    "cir_test.draw('mpl',style=\"iqp\", reverse_bits=True)"
   ]
  },
  {
   "cell_type": "markdown",
   "id": "cb2934df",
   "metadata": {},
   "source": [
    "### Whole circuit"
   ]
  },
  {
   "cell_type": "code",
   "execution_count": 11,
   "id": "bea6a3d0",
   "metadata": {},
   "outputs": [],
   "source": [
    "## Generate inital conditions\n",
    "np.random.seed(1)\n",
    "n = 1\n",
    "N = 2**n\n",
    "I = np.eye(N)\n",
    "vec_I = I.reshape(-1,order='F')\n",
    "M = 14\n",
    "L = math.ceil(np.log2(M)) - 1 # number of layers\n",
    "init_state = (1/N)**(M/4) * reduce(np.kron, [vec_I for i in range(M//2)])\n",
    "U_list = []\n",
    "for i in range(M):\n",
    "    U = unitary_group.rvs(N)\n",
    "    U_list.append(U)\n",
    "    \n",
    "Gu = make_Gu(N)\n",
    "Gu_op = qi.Operator(Gu)\n",
    "\n",
    "v = np.random.rand(N)\n",
    "v = v/norm(v)\n",
    "Vu = make_Vu(v)\n",
    "Vu_op = qi.Operator(Vu)\n",
    "\n",
    "\n",
    "exact_result = np.array(v)\n",
    "for U in U_list[::-1]:\n",
    "    exact_result = U@exact_result"
   ]
  },
  {
   "cell_type": "code",
   "execution_count": 12,
   "id": "f1b8c842",
   "metadata": {},
   "outputs": [
    {
     "data": {
      "image/png": "[encoded data removed]",
      "text/plain": [
       "<Figure size 701.723x866.88 with 1 Axes>"
      ]
     },
     "execution_count": 12,
     "metadata": {},
     "output_type": "execute_result"
    }
   ],
   "source": [
    "circ_full = get_full_circuit(M, n, U_list, Vu_op)\n",
    "# circ_full.draw('mpl', style=\"iqp\", reverse_bits=True).savefig('CircPar_n-{}_M-{}.png'.format(n,M))\n",
    "circ_full.draw('mpl', style=\"iqp\", reverse_bits=True)\n",
    "\n",
    "\n",
    "# circ_full = get_full_circuit(M, n, U_list, Vu_op)\n",
    "# circ_full.draw('latex_source', style=\"iqp\", reverse_bits=True, filename='./file.tex')\n",
    "# !pdflatex file.tex"
   ]
  },
  {
   "cell_type": "code",
   "execution_count": 13,
   "id": "42e3f373",
   "metadata": {},
   "outputs": [
    {
     "name": "stdout",
     "output_type": "stream",
     "text": [
      "4.665599982471358e-16\n"
     ]
    }
   ],
   "source": [
    "state = Statevector(init_state)\n",
    "state = state.evolve(circ_full)\n",
    "circuit_data = state.data\n",
    "A = np.sqrt(N)**(M-1) #initial=M/2 + num_g=M/2-1\n",
    "circuit_data = A*circuit_data\n",
    "result = [circuit_data[i*2**((M-1)*n)] for i in range(N)]\n",
    "print(norm(result - exact_result))\n",
    "# result/exact_result"
   ]
  },
  {
   "cell_type": "markdown",
   "id": "6f17eeaa",
   "metadata": {},
   "source": [
    "### Check different parameters"
   ]
  },
  {
   "cell_type": "code",
   "execution_count": 14,
   "id": "a90205b0",
   "metadata": {},
   "outputs": [
    {
     "name": "stdout",
     "output_type": "stream",
     "text": [
      "2 1 1.7451869960311208e-16\n",
      "2 2 2.2771838694454674e-16\n",
      "4 1 1.9229626863835638e-16\n",
      "4 2 4.041272810440265e-16\n",
      "6 1 4.75098925995612e-16\n",
      "6 2 2.466969522362136e-16\n",
      "8 1 5.382005793715205e-16\n",
      "8 2 6.875109865312971e-16\n",
      "10 1 4.236704743275018e-16\n",
      "10 2 3.398508799723934e-16\n",
      "12 1 3.8659043403122315e-16\n"
     ]
    },
    {
     "ename": "KeyboardInterrupt",
     "evalue": "",
     "output_type": "error",
     "traceback": [
      "\u001b[0;31m---------------------------------------------------------------------------\u001b[0m",
      "\u001b[0;31mKeyboardInterrupt\u001b[0m                         Traceback (most recent call last)",
      "Cell \u001b[0;32mIn[14], line 38\u001b[0m\n\u001b[1;32m     35\u001b[0m \u001b[38;5;66;03m##############\u001b[39;00m\n\u001b[1;32m     37\u001b[0m state \u001b[38;5;241m=\u001b[39m Statevector(init_state)\n\u001b[0;32m---> 38\u001b[0m state \u001b[38;5;241m=\u001b[39m \u001b[43mstate\u001b[49m\u001b[38;5;241;43m.\u001b[39;49m\u001b[43mevolve\u001b[49m\u001b[43m(\u001b[49m\u001b[43mcirc_full\u001b[49m\u001b[43m)\u001b[49m\n\u001b[1;32m     39\u001b[0m circuit_data \u001b[38;5;241m=\u001b[39m state\u001b[38;5;241m.\u001b[39mdata\n\u001b[1;32m     40\u001b[0m A \u001b[38;5;241m=\u001b[39m np\u001b[38;5;241m.\u001b[39msqrt(N)\u001b[38;5;241m*\u001b[39m\u001b[38;5;241m*\u001b[39m(M\u001b[38;5;241m-\u001b[39m\u001b[38;5;241m1\u001b[39m) \u001b[38;5;66;03m#initial=M/2 + num_g=M/2-1\u001b[39;00m\n",
      "File \u001b[0;32m~/opt/anaconda3/lib/python3.9/site-packages/qiskit/quantum_info/states/statevector.py:392\u001b[0m, in \u001b[0;36mStatevector.evolve\u001b[0;34m(self, other, qargs)\u001b[0m\n\u001b[1;32m    390\u001b[0m     \u001b[38;5;28;01mif\u001b[39;00m \u001b[38;5;28mself\u001b[39m\u001b[38;5;241m.\u001b[39mnum_qubits \u001b[38;5;129;01mis\u001b[39;00m \u001b[38;5;28;01mNone\u001b[39;00m:\n\u001b[1;32m    391\u001b[0m         \u001b[38;5;28;01mraise\u001b[39;00m QiskitError(\u001b[38;5;124m\"\u001b[39m\u001b[38;5;124mCannot apply QuantumCircuit to non-qubit Statevector.\u001b[39m\u001b[38;5;124m\"\u001b[39m)\n\u001b[0;32m--> 392\u001b[0m     \u001b[38;5;28;01mreturn\u001b[39;00m \u001b[38;5;28;43mself\u001b[39;49m\u001b[38;5;241;43m.\u001b[39;49m\u001b[43m_evolve_instruction\u001b[49m\u001b[43m(\u001b[49m\u001b[43mret\u001b[49m\u001b[43m,\u001b[49m\u001b[43m \u001b[49m\u001b[43mother\u001b[49m\u001b[43m,\u001b[49m\u001b[43m \u001b[49m\u001b[43mqargs\u001b[49m\u001b[38;5;241;43m=\u001b[39;49m\u001b[43mqargs\u001b[49m\u001b[43m)\u001b[49m\n\u001b[1;32m    394\u001b[0m \u001b[38;5;66;03m# Evolution by an Operator\u001b[39;00m\n\u001b[1;32m    395\u001b[0m \u001b[38;5;28;01mif\u001b[39;00m \u001b[38;5;129;01mnot\u001b[39;00m \u001b[38;5;28misinstance\u001b[39m(other, Operator):\n",
      "File \u001b[0;32m~/opt/anaconda3/lib/python3.9/site-packages/qiskit/quantum_info/states/statevector.py:960\u001b[0m, in \u001b[0;36mStatevector._evolve_instruction\u001b[0;34m(statevec, obj, qargs)\u001b[0m\n\u001b[1;32m    958\u001b[0m     \u001b[38;5;28;01melse\u001b[39;00m:\n\u001b[1;32m    959\u001b[0m         new_qargs \u001b[38;5;241m=\u001b[39m [qargs[qubits[tup]] \u001b[38;5;28;01mfor\u001b[39;00m tup \u001b[38;5;129;01min\u001b[39;00m instruction\u001b[38;5;241m.\u001b[39mqubits]\n\u001b[0;32m--> 960\u001b[0m     \u001b[43mStatevector\u001b[49m\u001b[38;5;241;43m.\u001b[39;49m\u001b[43m_evolve_instruction\u001b[49m\u001b[43m(\u001b[49m\u001b[43mstatevec\u001b[49m\u001b[43m,\u001b[49m\u001b[43m \u001b[49m\u001b[43minstruction\u001b[49m\u001b[38;5;241;43m.\u001b[39;49m\u001b[43moperation\u001b[49m\u001b[43m,\u001b[49m\u001b[43m \u001b[49m\u001b[43mqargs\u001b[49m\u001b[38;5;241;43m=\u001b[39;49m\u001b[43mnew_qargs\u001b[49m\u001b[43m)\u001b[49m\n\u001b[1;32m    961\u001b[0m \u001b[38;5;28;01mreturn\u001b[39;00m statevec\n",
      "File \u001b[0;32m~/opt/anaconda3/lib/python3.9/site-packages/qiskit/quantum_info/states/statevector.py:900\u001b[0m, in \u001b[0;36mStatevector._evolve_instruction\u001b[0;34m(statevec, obj, qargs)\u001b[0m\n\u001b[1;32m    896\u001b[0m mat \u001b[38;5;241m=\u001b[39m Operator\u001b[38;5;241m.\u001b[39m_instruction_to_matrix(obj)\n\u001b[1;32m    897\u001b[0m \u001b[38;5;28;01mif\u001b[39;00m mat \u001b[38;5;129;01mis\u001b[39;00m \u001b[38;5;129;01mnot\u001b[39;00m \u001b[38;5;28;01mNone\u001b[39;00m:\n\u001b[1;32m    898\u001b[0m     \u001b[38;5;66;03m# Perform the composition and inplace update the current state\u001b[39;00m\n\u001b[1;32m    899\u001b[0m     \u001b[38;5;66;03m# of the operator\u001b[39;00m\n\u001b[0;32m--> 900\u001b[0m     \u001b[38;5;28;01mreturn\u001b[39;00m \u001b[43mStatevector\u001b[49m\u001b[38;5;241;43m.\u001b[39;49m\u001b[43m_evolve_operator\u001b[49m\u001b[43m(\u001b[49m\u001b[43mstatevec\u001b[49m\u001b[43m,\u001b[49m\u001b[43m \u001b[49m\u001b[43mOperator\u001b[49m\u001b[43m(\u001b[49m\u001b[43mmat\u001b[49m\u001b[43m)\u001b[49m\u001b[43m,\u001b[49m\u001b[43m \u001b[49m\u001b[43mqargs\u001b[49m\u001b[38;5;241;43m=\u001b[39;49m\u001b[43mqargs\u001b[49m\u001b[43m)\u001b[49m\n\u001b[1;32m    902\u001b[0m \u001b[38;5;66;03m# Special instruction types\u001b[39;00m\n\u001b[1;32m    903\u001b[0m \u001b[38;5;28;01mif\u001b[39;00m \u001b[38;5;28misinstance\u001b[39m(obj, Reset):\n",
      "File \u001b[0;32m~/opt/anaconda3/lib/python3.9/site-packages/qiskit/quantum_info/states/statevector.py:878\u001b[0m, in \u001b[0;36mStatevector._evolve_operator\u001b[0;34m(statevec, oper, qargs)\u001b[0m\n\u001b[1;32m    872\u001b[0m tensor \u001b[38;5;241m=\u001b[39m np\u001b[38;5;241m.\u001b[39mreshape(\n\u001b[1;32m    873\u001b[0m     np\u001b[38;5;241m.\u001b[39mdot(oper\u001b[38;5;241m.\u001b[39mdata, np\u001b[38;5;241m.\u001b[39mreshape(tensor, contract_shape)),\n\u001b[1;32m    874\u001b[0m     tensor_shape,\n\u001b[1;32m    875\u001b[0m )\n\u001b[1;32m    877\u001b[0m \u001b[38;5;66;03m# Transpose back to  original subsystem spec and flatten\u001b[39;00m\n\u001b[0;32m--> 878\u001b[0m statevec\u001b[38;5;241m.\u001b[39m_data \u001b[38;5;241m=\u001b[39m \u001b[43mnp\u001b[49m\u001b[38;5;241;43m.\u001b[39;49m\u001b[43mreshape\u001b[49m\u001b[43m(\u001b[49m\u001b[43mnp\u001b[49m\u001b[38;5;241;43m.\u001b[39;49m\u001b[43mtranspose\u001b[49m\u001b[43m(\u001b[49m\u001b[43mtensor\u001b[49m\u001b[43m,\u001b[49m\u001b[43m \u001b[49m\u001b[43maxes_inv\u001b[49m\u001b[43m)\u001b[49m\u001b[43m,\u001b[49m\u001b[43m \u001b[49m\u001b[43mnew_shape\u001b[49m\u001b[38;5;241;43m.\u001b[39;49m\u001b[43mshape\u001b[49m\u001b[43m[\u001b[49m\u001b[38;5;241;43m0\u001b[39;49m\u001b[43m]\u001b[49m\u001b[43m)\u001b[49m\n\u001b[1;32m    880\u001b[0m \u001b[38;5;66;03m# Update dimension\u001b[39;00m\n\u001b[1;32m    881\u001b[0m statevec\u001b[38;5;241m.\u001b[39m_op_shape \u001b[38;5;241m=\u001b[39m new_shape\n",
      "File \u001b[0;32m<__array_function__ internals>:180\u001b[0m, in \u001b[0;36mreshape\u001b[0;34m(*args, **kwargs)\u001b[0m\n",
      "File \u001b[0;32m~/opt/anaconda3/lib/python3.9/site-packages/numpy/core/fromnumeric.py:298\u001b[0m, in \u001b[0;36mreshape\u001b[0;34m(a, newshape, order)\u001b[0m\n\u001b[1;32m    198\u001b[0m \u001b[38;5;129m@array_function_dispatch\u001b[39m(_reshape_dispatcher)\n\u001b[1;32m    199\u001b[0m \u001b[38;5;28;01mdef\u001b[39;00m \u001b[38;5;21mreshape\u001b[39m(a, newshape, order\u001b[38;5;241m=\u001b[39m\u001b[38;5;124m'\u001b[39m\u001b[38;5;124mC\u001b[39m\u001b[38;5;124m'\u001b[39m):\n\u001b[1;32m    200\u001b[0m \u001b[38;5;250m    \u001b[39m\u001b[38;5;124;03m\"\"\"\u001b[39;00m\n\u001b[1;32m    201\u001b[0m \u001b[38;5;124;03m    Gives a new shape to an array without changing its data.\u001b[39;00m\n\u001b[1;32m    202\u001b[0m \n\u001b[0;32m   (...)\u001b[0m\n\u001b[1;32m    296\u001b[0m \u001b[38;5;124;03m           [5, 6]])\u001b[39;00m\n\u001b[1;32m    297\u001b[0m \u001b[38;5;124;03m    \"\"\"\u001b[39;00m\n\u001b[0;32m--> 298\u001b[0m     \u001b[38;5;28;01mreturn\u001b[39;00m \u001b[43m_wrapfunc\u001b[49m\u001b[43m(\u001b[49m\u001b[43ma\u001b[49m\u001b[43m,\u001b[49m\u001b[43m \u001b[49m\u001b[38;5;124;43m'\u001b[39;49m\u001b[38;5;124;43mreshape\u001b[39;49m\u001b[38;5;124;43m'\u001b[39;49m\u001b[43m,\u001b[49m\u001b[43m \u001b[49m\u001b[43mnewshape\u001b[49m\u001b[43m,\u001b[49m\u001b[43m \u001b[49m\u001b[43morder\u001b[49m\u001b[38;5;241;43m=\u001b[39;49m\u001b[43morder\u001b[49m\u001b[43m)\u001b[49m\n",
      "File \u001b[0;32m~/opt/anaconda3/lib/python3.9/site-packages/numpy/core/fromnumeric.py:57\u001b[0m, in \u001b[0;36m_wrapfunc\u001b[0;34m(obj, method, *args, **kwds)\u001b[0m\n\u001b[1;32m     54\u001b[0m     \u001b[38;5;28;01mreturn\u001b[39;00m _wrapit(obj, method, \u001b[38;5;241m*\u001b[39margs, \u001b[38;5;241m*\u001b[39m\u001b[38;5;241m*\u001b[39mkwds)\n\u001b[1;32m     56\u001b[0m \u001b[38;5;28;01mtry\u001b[39;00m:\n\u001b[0;32m---> 57\u001b[0m     \u001b[38;5;28;01mreturn\u001b[39;00m \u001b[43mbound\u001b[49m\u001b[43m(\u001b[49m\u001b[38;5;241;43m*\u001b[39;49m\u001b[43margs\u001b[49m\u001b[43m,\u001b[49m\u001b[43m \u001b[49m\u001b[38;5;241;43m*\u001b[39;49m\u001b[38;5;241;43m*\u001b[39;49m\u001b[43mkwds\u001b[49m\u001b[43m)\u001b[49m\n\u001b[1;32m     58\u001b[0m \u001b[38;5;28;01mexcept\u001b[39;00m \u001b[38;5;167;01mTypeError\u001b[39;00m:\n\u001b[1;32m     59\u001b[0m     \u001b[38;5;66;03m# A TypeError occurs if the object does have such a method in its\u001b[39;00m\n\u001b[1;32m     60\u001b[0m     \u001b[38;5;66;03m# class, but its signature is not identical to that of NumPy's. This\u001b[39;00m\n\u001b[0;32m   (...)\u001b[0m\n\u001b[1;32m     64\u001b[0m     \u001b[38;5;66;03m# Call _wrapit from within the except clause to ensure a potential\u001b[39;00m\n\u001b[1;32m     65\u001b[0m     \u001b[38;5;66;03m# exception has a traceback chain.\u001b[39;00m\n\u001b[1;32m     66\u001b[0m     \u001b[38;5;28;01mreturn\u001b[39;00m _wrapit(obj, method, \u001b[38;5;241m*\u001b[39margs, \u001b[38;5;241m*\u001b[39m\u001b[38;5;241m*\u001b[39mkwds)\n",
      "\u001b[0;31mKeyboardInterrupt\u001b[0m: "
     ]
    }
   ],
   "source": [
    "for M in [2*i for i in range(1,21)]:\n",
    "    for n in range(1,3):\n",
    "        ## Generate inital conditions\n",
    "        np.random.seed(1)\n",
    "#         n = 1\n",
    "        N = 2**n\n",
    "        I = np.eye(N)\n",
    "        vec_I = I.reshape(-1,order='F')\n",
    "    #     M = 4\n",
    "        L = math.ceil(np.log2(M)) - 1 # number of layers\n",
    "        init_state = (1/N)**(M/4) * reduce(np.kron, [vec_I for i in range(M//2)])\n",
    "        U_list = []\n",
    "        for i in range(M):\n",
    "            U = unitary_group.rvs(N)\n",
    "            U_list.append(U)\n",
    "\n",
    "        Gu = make_Gu(N)\n",
    "        Gu_op = qi.Operator(Gu)\n",
    "\n",
    "        v = np.random.rand(N)\n",
    "        v = v/norm(v)\n",
    "        Vu = make_Vu(v)\n",
    "        Vu_op = qi.Operator(Vu)\n",
    "\n",
    "\n",
    "        exact_result = np.array(v)\n",
    "        for U in U_list[::-1]:\n",
    "            exact_result = U@exact_result\n",
    "\n",
    "\n",
    "        ##############\n",
    "\n",
    "        circ_full = get_full_circuit(M, n, U_list, Vu_op)\n",
    "\n",
    "        ##############\n",
    "\n",
    "        state = Statevector(init_state)\n",
    "        state = state.evolve(circ_full)\n",
    "        circuit_data = state.data\n",
    "        A = np.sqrt(N)**(M-1) #initial=M/2 + num_g=M/2-1\n",
    "        circuit_data = A*circuit_data\n",
    "        result = [circuit_data[i*2**((M-1)*n)] for i in range(N)]\n",
    "\n",
    "        print(M, n, norm(result - exact_result))"
   ]
  },
  {
   "cell_type": "markdown",
   "id": "11d98d04",
   "metadata": {},
   "source": [
    "### Whole circuit with Gu as LSU"
   ]
  },
  {
   "cell_type": "markdown",
   "id": "a18b5ee8",
   "metadata": {},
   "source": [
    "#### Matrix check"
   ]
  },
  {
   "cell_type": "code",
   "execution_count": 15,
   "id": "e909f32a",
   "metadata": {},
   "outputs": [],
   "source": [
    "def get_Gu_LCU(n):\n",
    "    '''n - is the size of one register'''\n",
    "    Gu = np.zeros((2**(2*n), 2**(2*n)))\n",
    "    for j in range(2**n):\n",
    "        j_bin = format(j, '0{}b'.format(n))\n",
    "        P = reduce(np.kron, [PAULIS['X'] if k == '1' else PAULIS['I'] for k in  j_bin])\n",
    "        Gu += np.kron(P,P)\n",
    "    return Gu\n",
    "\n",
    "\n",
    "def get_Vu_LCU_diag(v):\n",
    "    '''v is normolized vector of size 2^n'''\n",
    "    N = len(v)\n",
    "    n = int(np.log2(N))\n",
    "    Vu = np.zeros((N,N))\n",
    "    for j,vj in enumerate(v):\n",
    "        j_bin = format(j, '0{}b'.format(n))\n",
    "        P = reduce(np.kron, [PAULIS['Z'] if k == '1' else PAULIS['I'] for k in  j_bin])\n",
    "        Vu += vj*P\n",
    "    return Vu\n",
    "\n",
    "\n",
    "def get_Vu_LCU(v):\n",
    "    '''v is normolized vector of size 2^n'''\n",
    "    N = len(v)\n",
    "    n = int(np.log2(N))\n",
    "    Vu = np.zeros((N,N))\n",
    "    for j,vj in enumerate(v):\n",
    "        j_bin = format(j, '0{}b'.format(n))\n",
    "        P = reduce(np.kron, [PAULIS['X'] if k == '1' else PAULIS['I'] for k in  j_bin])\n",
    "        Vu += vj*P\n",
    "    return Vu"
   ]
  },
  {
   "cell_type": "code",
   "execution_count": 16,
   "id": "570dd5e0",
   "metadata": {},
   "outputs": [
    {
     "name": "stdout",
     "output_type": "stream",
     "text": [
      "4.505058141168416e-16\n"
     ]
    }
   ],
   "source": [
    "n = 1\n",
    "N = 2**n\n",
    "Gu_LCU = get_Gu_LCU(n)\n",
    "Gu_LCU_expm = expm(1j*(np.pi/N)*Gu_LCU)\n",
    "\n",
    "\n",
    "Gu_re = (N/2)*(np.eye(Gu_LCU.shape[0]) - Gu_LCU_expm)\n",
    "print(norm(Gu_re - Gu_LCU))"
   ]
  },
  {
   "cell_type": "code",
   "execution_count": 17,
   "id": "2807b4a2",
   "metadata": {},
   "outputs": [
    {
     "name": "stdout",
     "output_type": "stream",
     "text": [
      "3.1151568208829516e-15\n"
     ]
    }
   ],
   "source": [
    "n = 5\n",
    "N = 2**n\n",
    "v = np.random.rand(N)\n",
    "v = v/norm(v)\n",
    "\n",
    "Vu_LCU_diag = get_Vu_LCU_diag(v)\n",
    "norm_diag = np.max(abs(Vu_LCU_diag))\n",
    "Vu_LCU_arc = np.diag(np.arccos(np.diag(Vu_LCU_diag)/norm_diag))\n",
    "\n",
    "\n",
    "Vu_LCU_expm_1 = expm(1j*Vu_LCU_arc)\n",
    "Vu_LCU_expm_2 = expm(-1j*Vu_LCU_arc)\n",
    "\n",
    "Vu_re = (norm_diag/2)*(Vu_LCU_expm_1 + Vu_LCU_expm_2)\n",
    "print(norm(Vu_re - Vu_LCU_diag))"
   ]
  },
  {
   "cell_type": "markdown",
   "id": "82214d69",
   "metadata": {},
   "source": [
    "#### Circuit check $G_u$"
   ]
  },
  {
   "cell_type": "code",
   "execution_count": 18,
   "id": "d936bc66",
   "metadata": {},
   "outputs": [],
   "source": [
    "n = 2\n",
    "N = 2**n\n",
    "Gu_LCU = get_Gu_LCU(n)\n",
    "Gu_LCU_expm = expm(1j*(np.pi/N)*Gu_LCU)\n",
    "\n",
    "Gu_LCU_op = qi.Operator(-Gu_LCU_expm)\n",
    "circ_Gu = QuantumCircuit(2*n)\n",
    "circ_Gu.unitary(Gu_LCU_op, range(2*n), label = \"Gu\")\n",
    "cGu_gate = circ_Gu.to_gate( label = \"-exp(i pi Gu/N)\").control(1, ctrl_state=0) # ctrl_state does not matter"
   ]
  },
  {
   "cell_type": "code",
   "execution_count": 19,
   "id": "88e9e428",
   "metadata": {},
   "outputs": [
    {
     "data": {
      "image/png": "[encoded data removed]",
      "text/plain": [
       "<Figure size 387.597x325.08 with 1 Axes>"
      ]
     },
     "execution_count": 19,
     "metadata": {},
     "output_type": "execute_result"
    }
   ],
   "source": [
    "circ_test = QuantumCircuit(2*n + 1)\n",
    "circ_test.h(0)\n",
    "circ_test.append(cGu_gate, range(2*n + 1))\n",
    "circ_test.h(0)\n",
    "\n",
    "circ_test_rev = circ_test.reverse_bits()\n",
    "\n",
    "circ_test_rev.draw('mpl', style=\"iqp\", reverse_bits=True)"
   ]
  },
  {
   "cell_type": "code",
   "execution_count": 20,
   "id": "490cebc6",
   "metadata": {},
   "outputs": [
    {
     "name": "stdout",
     "output_type": "stream",
     "text": [
      "2.3805503128172577e-14\n"
     ]
    }
   ],
   "source": [
    "v = np.random.rand(2**(2*n))\n",
    "v = v/norm(v)\n",
    "\n",
    "init_state = np.kron(np.array([1,0]), v)\n",
    "state = Statevector(init_state)\n",
    "state = state.evolve(circ_test_rev)\n",
    "circuit_data = state.data\n",
    "\n",
    "\n",
    "A = N\n",
    "circuit_data = A*circuit_data\n",
    "result = circuit_data[:2**(2*n)]\n",
    "print(norm(result - Gu_LCU@v))\n",
    "# result/exact_result"
   ]
  },
  {
   "cell_type": "markdown",
   "id": "56b870b1",
   "metadata": {},
   "source": [
    "#### Circuit check $V_u$"
   ]
  },
  {
   "cell_type": "code",
   "execution_count": 21,
   "id": "27f2a834",
   "metadata": {},
   "outputs": [],
   "source": [
    "n = 3\n",
    "N = 2**n\n",
    "v = np.random.rand(N)\n",
    "v = v/norm(v)\n",
    "norm_diag = np.sum(abs(v))+0.1\n",
    "\n",
    "Vu_LCU_diag = get_Vu_LCU_diag(v)\n",
    "Vu_LCU_arc = np.diag(np.arccos(np.diag(Vu_LCU_diag)/norm_diag))\n",
    "Vu_LCU_expm_1 = expm(1j*Vu_LCU_arc)\n",
    "Vu_LCU_expm_2 = expm(-1j*Vu_LCU_arc)\n",
    "\n",
    "\n",
    "\n",
    "Vu_LCU_expm_1_op = qi.Operator(Vu_LCU_expm_1)\n",
    "circ = QuantumCircuit(n)\n",
    "circ.unitary(Vu_LCU_expm_1_op, range(n), label = \"Gu\")\n",
    "cVu_LCU_expm_1_op = circ.to_gate( label = \"exp(i Varc)\").control(1, ctrl_state=0)\n",
    "\n",
    "Vu_LCU_expm_2_op = qi.Operator(Vu_LCU_expm_2)\n",
    "circ = QuantumCircuit(n)\n",
    "circ.unitary(Vu_LCU_expm_2_op, range(n), label = \"Gu\")\n",
    "cVu_LCU_expm_2_op = circ.to_gate( label = \"exp(-i Varc)\").control(1, ctrl_state=1)"
   ]
  },
  {
   "cell_type": "code",
   "execution_count": 22,
   "id": "7f05e4ef",
   "metadata": {},
   "outputs": [
    {
     "data": {
      "image/png": "[encoded data removed]",
      "text/plain": [
       "<Figure size 507.997x264.88 with 1 Axes>"
      ]
     },
     "execution_count": 22,
     "metadata": {},
     "output_type": "execute_result"
    }
   ],
   "source": [
    "circ_test = QuantumCircuit(n+1)\n",
    "circ_test.h(0)\n",
    "circ_test.append(cVu_LCU_expm_1_op, [0]+list(range(1,n+1))[::-1])\n",
    "circ_test.append(cVu_LCU_expm_2_op, [0]+list(range(1,n+1))[::-1])\n",
    "circ_test.h(0)\n",
    "\n",
    "circ_test_rev = circ_test.reverse_bits()\n",
    "\n",
    "circ_test_rev.draw('mpl', style=\"iqp\", reverse_bits=True)"
   ]
  },
  {
   "cell_type": "code",
   "execution_count": 23,
   "id": "d07c6150",
   "metadata": {},
   "outputs": [
    {
     "name": "stdout",
     "output_type": "stream",
     "text": [
      "3.821417832850155e-15\n"
     ]
    }
   ],
   "source": [
    "w = np.random.rand(2**(n))\n",
    "w = w/norm(w)\n",
    "\n",
    "init_state = np.kron(np.array([1,0]), w)\n",
    "state = Statevector(init_state)\n",
    "state = state.evolve(circ_test_rev)\n",
    "circuit_data = state.data\n",
    "\n",
    "A = norm_diag\n",
    "circuit_data = A*circuit_data\n",
    "result = circuit_data[:2**(n)]\n",
    "print(norm(result - Vu_LCU_diag@w))"
   ]
  }
 ],
 "metadata": {
  "kernelspec": {
   "display_name": "Python 3 (ipykernel)",
   "language": "python",
   "name": "python3"
  },
  "language_info": {
   "codemirror_mode": {
    "name": "ipython",
    "version": 3
   },
   "file_extension": ".py",
   "mimetype": "text/x-python",
   "name": "python",
   "nbconvert_exporter": "python",
   "pygments_lexer": "ipython3",
   "version": "3.9.19"
  }
 },
 "nbformat": 4,
 "nbformat_minor": 5
}
